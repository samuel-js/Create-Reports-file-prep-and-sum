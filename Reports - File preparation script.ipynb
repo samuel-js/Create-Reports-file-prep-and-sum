{
 "cells": [
  {
   "cell_type": "markdown",
   "metadata": {},
   "source": [
    "# Reports: File preparation script\n",
    "The following script takes in a single file as input. Then it does some cleaning and transformations and finally it exports the original input as a new file. In this example, the input file is a print report .cvs that will be prepared for summation in the other script \"File summation script\".  The script can be easily adapted to many other cases."
   ]
  },
  {
   "cell_type": "code",
   "execution_count": 32,
   "metadata": {},
   "outputs": [],
   "source": [
    "# Import libraries\n",
    "import pandas as pd\n",
    "pd.options.display.max_rows = 650\n",
    "pd.options.display.max_columns = 100\n",
    "import numpy as np\n",
    "import matplotlib.pyplot as plt\n",
    "% matplotlib inline"
   ]
  },
  {
   "cell_type": "markdown",
   "metadata": {},
   "source": [
    "### Input .csv file 'input' name here"
   ]
  },
  {
   "cell_type": "code",
   "execution_count": 33,
   "metadata": {},
   "outputs": [],
   "source": [
    "# REad the file\n",
    "file_name = '_0817.csv' # <- Input your filename here\n",
    "print_data = pd.read_csv(file_name) "
   ]
  },
  {
   "cell_type": "code",
   "execution_count": 34,
   "metadata": {
    "scrolled": true
   },
   "outputs": [
    {
     "data": {
      "text/html": [
       "<div>\n",
       "<style scoped>\n",
       "    .dataframe tbody tr th:only-of-type {\n",
       "        vertical-align: middle;\n",
       "    }\n",
       "\n",
       "    .dataframe tbody tr th {\n",
       "        vertical-align: top;\n",
       "    }\n",
       "\n",
       "    .dataframe thead th {\n",
       "        text-align: right;\n",
       "    }\n",
       "</style>\n",
       "<table border=\"1\" class=\"dataframe\">\n",
       "  <thead>\n",
       "    <tr style=\"text-align: right;\">\n",
       "      <th></th>\n",
       "      <th>cGroupID</th>\n",
       "      <th>cGroupIDBillable</th>\n",
       "      <th>cGroupName</th>\n",
       "      <th>cGroupDescription</th>\n",
       "      <th>cRowID</th>\n",
       "      <th>cRowName</th>\n",
       "      <th>cRowDescription</th>\n",
       "      <th>cTransactDate</th>\n",
       "      <th>cTransactType</th>\n",
       "      <th>cChargeAccountID</th>\n",
       "      <th>cChargeAccountType</th>\n",
       "      <th>cUserWhoPrinted</th>\n",
       "      <th>cDocumentName</th>\n",
       "      <th>cUnits</th>\n",
       "      <th>cDocumentID</th>\n",
       "      <th>cDeviceIP</th>\n",
       "      <th>cDevModel</th>\n",
       "      <th>cDevManuf</th>\n",
       "      <th>cDuration</th>\n",
       "      <th>cDestination</th>\n",
       "      <th>cFullName</th>\n",
       "      <th>cPrimaryPIN</th>\n",
       "      <th>cWorkstation</th>\n",
       "      <th>cAmount</th>\n",
       "      <th>JobProperties</th>\n",
       "      <th>cAltCost</th>\n",
       "      <th>cDepartment</th>\n",
       "      <th>cBillable</th>\n",
       "      <th>cAlternatePin</th>\n",
       "      <th>cLocation</th>\n",
       "      <th>cCustomGroup</th>\n",
       "      <th>cReleaseUserName</th>\n",
       "      <th>cScanDestType</th>\n",
       "      <th>cScanOutputFormat</th>\n",
       "      <th>cOCR</th>\n",
       "      <th>cDelivered</th>\n",
       "    </tr>\n",
       "  </thead>\n",
       "  <tbody>\n",
       "  </tbody>\n",
       "</table>\n",
       "</div>"
      ],
      "text/plain": [
       "Empty DataFrame\n",
       "Columns: [cGroupID, cGroupIDBillable, cGroupName, cGroupDescription, cRowID, cRowName, cRowDescription, cTransactDate, cTransactType, cChargeAccountID, cChargeAccountType, cUserWhoPrinted, cDocumentName, cUnits, cDocumentID, cDeviceIP, cDevModel, cDevManuf, cDuration, cDestination, cFullName, cPrimaryPIN, cWorkstation, cAmount, JobProperties, cAltCost, cDepartment, cBillable, cAlternatePin, cLocation, cCustomGroup, cReleaseUserName, cScanDestType, cScanOutputFormat, cOCR, cDelivered]\n",
       "Index: []"
      ]
     },
     "execution_count": 34,
     "metadata": {},
     "output_type": "execute_result"
    }
   ],
   "source": [
    "# Preview data (change 0 to any number of rows)\n",
    "print_data.head(0)"
   ]
  },
  {
   "cell_type": "code",
   "execution_count": 35,
   "metadata": {},
   "outputs": [
    {
     "data": {
      "text/plain": [
       "['cGroupID',\n",
       " 'cGroupIDBillable',\n",
       " 'cGroupName',\n",
       " 'cGroupDescription',\n",
       " 'cRowID',\n",
       " 'cRowName',\n",
       " 'cRowDescription',\n",
       " 'cTransactDate',\n",
       " 'cTransactType',\n",
       " 'cChargeAccountID',\n",
       " 'cChargeAccountType',\n",
       " 'cUserWhoPrinted',\n",
       " 'cDocumentName',\n",
       " 'cUnits',\n",
       " 'cDocumentID',\n",
       " 'cDeviceIP',\n",
       " 'cDevModel',\n",
       " 'cDevManuf',\n",
       " 'cDuration',\n",
       " 'cDestination',\n",
       " 'cFullName',\n",
       " 'cPrimaryPIN',\n",
       " 'cWorkstation',\n",
       " 'cAmount',\n",
       " 'JobProperties',\n",
       " 'cAltCost',\n",
       " 'cDepartment',\n",
       " 'cBillable',\n",
       " 'cAlternatePin',\n",
       " 'cLocation',\n",
       " 'cCustomGroup',\n",
       " 'cReleaseUserName',\n",
       " 'cScanDestType',\n",
       " 'cScanOutputFormat',\n",
       " 'cOCR',\n",
       " 'cDelivered']"
      ]
     },
     "execution_count": 35,
     "metadata": {},
     "output_type": "execute_result"
    }
   ],
   "source": [
    "# View columns\n",
    "print_data.columns.tolist()"
   ]
  },
  {
   "cell_type": "code",
   "execution_count": 36,
   "metadata": {},
   "outputs": [],
   "source": [
    "# Remove the columns that won't be used\n",
    "print_data.drop(['cGroupID',\n",
    " 'cGroupIDBillable',\n",
    " 'cGroupName',\n",
    " 'cGroupDescription',\n",
    " 'cRowID',\n",
    " 'cRowName',\n",
    " 'cRowDescription',\n",
    " 'cChargeAccountID',\n",
    " 'cChargeAccountType',\n",
    " 'cDevManuf',\n",
    " 'cDuration',\n",
    " 'cDestination', \n",
    " 'cWorkstation',\n",
    " 'cDepartment',\n",
    " 'cBillable',\n",
    " 'cAlternatePin',\n",
    " 'cLocation',\n",
    " 'cCustomGroup',\n",
    " 'cScanDestType',\n",
    " 'cScanOutputFormat',\n",
    " 'cOCR',\n",
    " 'cDelivered',\n",
    " 'cDevModel',\n",
    " 'cDocumentID',\n",
    " 'cDocumentName',\n",
    " 'cDeviceIP',\n",
    " 'cReleaseUserName'], axis=1, inplace=True)"
   ]
  },
  {
   "cell_type": "code",
   "execution_count": 37,
   "metadata": {},
   "outputs": [
    {
     "data": {
      "text/html": [
       "<div>\n",
       "<style scoped>\n",
       "    .dataframe tbody tr th:only-of-type {\n",
       "        vertical-align: middle;\n",
       "    }\n",
       "\n",
       "    .dataframe tbody tr th {\n",
       "        vertical-align: top;\n",
       "    }\n",
       "\n",
       "    .dataframe thead th {\n",
       "        text-align: right;\n",
       "    }\n",
       "</style>\n",
       "<table border=\"1\" class=\"dataframe\">\n",
       "  <thead>\n",
       "    <tr style=\"text-align: right;\">\n",
       "      <th></th>\n",
       "      <th>cTransactDate</th>\n",
       "      <th>cTransactType</th>\n",
       "      <th>cUserWhoPrinted</th>\n",
       "      <th>cUnits</th>\n",
       "      <th>cFullName</th>\n",
       "      <th>cPrimaryPIN</th>\n",
       "      <th>cAmount</th>\n",
       "      <th>JobProperties</th>\n",
       "      <th>cAltCost</th>\n",
       "    </tr>\n",
       "  </thead>\n",
       "  <tbody>\n",
       "    <tr>\n",
       "      <th>0</th>\n",
       "      <td>2017-07-03  11:56</td>\n",
       "      <td>copy</td>\n",
       "      <td>mali2001</td>\n",
       "      <td>70</td>\n",
       "      <td>Martin Linder</td>\n",
       "      <td>1104450</td>\n",
       "      <td>0,70</td>\n",
       "      <td>20 x A3; 50 x A4</td>\n",
       "      <td>0,00</td>\n",
       "    </tr>\n",
       "    <tr>\n",
       "      <th>1</th>\n",
       "      <td>2017-07-04  12:45</td>\n",
       "      <td>scan</td>\n",
       "      <td>zaed2001</td>\n",
       "      <td>1</td>\n",
       "      <td>Zacharias Edholm</td>\n",
       "      <td>551641966891</td>\n",
       "      <td>0,00</td>\n",
       "      <td>1 x Unspecified/C</td>\n",
       "      <td>0,00</td>\n",
       "    </tr>\n",
       "    <tr>\n",
       "      <th>2</th>\n",
       "      <td>2017-07-04  13:15</td>\n",
       "      <td>print</td>\n",
       "      <td>alsz2001</td>\n",
       "      <td>1</td>\n",
       "      <td>Alexander Szwarcwald</td>\n",
       "      <td>551641996654</td>\n",
       "      <td>0,01</td>\n",
       "      <td>1 x A4/C</td>\n",
       "      <td>0,00</td>\n",
       "    </tr>\n",
       "    <tr>\n",
       "      <th>3</th>\n",
       "      <td>2017-07-04  13:15</td>\n",
       "      <td>print</td>\n",
       "      <td>alsz2001</td>\n",
       "      <td>1</td>\n",
       "      <td>Alexander Szwarcwald</td>\n",
       "      <td>551641996654</td>\n",
       "      <td>0,01</td>\n",
       "      <td>1 x A4/C</td>\n",
       "      <td>0,00</td>\n",
       "    </tr>\n",
       "    <tr>\n",
       "      <th>4</th>\n",
       "      <td>2017-07-04  13:15</td>\n",
       "      <td>print</td>\n",
       "      <td>alsz2001</td>\n",
       "      <td>1</td>\n",
       "      <td>Alexander Szwarcwald</td>\n",
       "      <td>551641996654</td>\n",
       "      <td>0,01</td>\n",
       "      <td>1 x A4/C</td>\n",
       "      <td>0,00</td>\n",
       "    </tr>\n",
       "  </tbody>\n",
       "</table>\n",
       "</div>"
      ],
      "text/plain": [
       "       cTransactDate cTransactType cUserWhoPrinted  cUnits  \\\n",
       "0  2017-07-03  11:56          copy        mali2001      70   \n",
       "1  2017-07-04  12:45          scan        zaed2001       1   \n",
       "2  2017-07-04  13:15         print        alsz2001       1   \n",
       "3  2017-07-04  13:15         print        alsz2001       1   \n",
       "4  2017-07-04  13:15         print        alsz2001       1   \n",
       "\n",
       "              cFullName   cPrimaryPIN cAmount      JobProperties cAltCost  \n",
       "0         Martin Linder       1104450   0,70    20 x A3; 50 x A4    0,00   \n",
       "1      Zacharias Edholm  551641966891   0,00   1 x Unspecified/C    0,00   \n",
       "2  Alexander Szwarcwald  551641996654   0,01            1 x A4/C    0,00   \n",
       "3  Alexander Szwarcwald  551641996654   0,01            1 x A4/C    0,00   \n",
       "4  Alexander Szwarcwald  551641996654   0,01            1 x A4/C    0,00   "
      ]
     },
     "execution_count": 37,
     "metadata": {},
     "output_type": "execute_result"
    }
   ],
   "source": [
    "# Preview data (change 0 to any number of rows)\n",
    "print_data.head()"
   ]
  },
  {
   "cell_type": "code",
   "execution_count": 38,
   "metadata": {},
   "outputs": [
    {
     "data": {
      "text/plain": [
       "['cTransactDate',\n",
       " 'cTransactType',\n",
       " 'cUserWhoPrinted',\n",
       " 'cUnits',\n",
       " 'cFullName',\n",
       " 'cPrimaryPIN',\n",
       " 'cAmount',\n",
       " 'JobProperties',\n",
       " 'cAltCost']"
      ]
     },
     "execution_count": 38,
     "metadata": {},
     "output_type": "execute_result"
    }
   ],
   "source": [
    "# View the remaining columns\n",
    "print_data.columns.tolist()"
   ]
  },
  {
   "cell_type": "code",
   "execution_count": 39,
   "metadata": {},
   "outputs": [],
   "source": [
    "# Rename the columns\n",
    "new_labels = ['date',\n",
    " 'type',\n",
    " 'user',\n",
    " 'units',\n",
    " 'full_name',\n",
    " 'pin',\n",
    " 'amount',\n",
    " 'properties',\n",
    " 'cost']"
   ]
  },
  {
   "cell_type": "code",
   "execution_count": 40,
   "metadata": {},
   "outputs": [],
   "source": [
    "# Apply the new labels\n",
    "print_data.columns = new_labels"
   ]
  },
  {
   "cell_type": "code",
   "execution_count": 41,
   "metadata": {},
   "outputs": [
    {
     "data": {
      "text/html": [
       "<div>\n",
       "<style scoped>\n",
       "    .dataframe tbody tr th:only-of-type {\n",
       "        vertical-align: middle;\n",
       "    }\n",
       "\n",
       "    .dataframe tbody tr th {\n",
       "        vertical-align: top;\n",
       "    }\n",
       "\n",
       "    .dataframe thead th {\n",
       "        text-align: right;\n",
       "    }\n",
       "</style>\n",
       "<table border=\"1\" class=\"dataframe\">\n",
       "  <thead>\n",
       "    <tr style=\"text-align: right;\">\n",
       "      <th></th>\n",
       "      <th>date</th>\n",
       "      <th>type</th>\n",
       "      <th>user</th>\n",
       "      <th>units</th>\n",
       "      <th>full_name</th>\n",
       "      <th>pin</th>\n",
       "      <th>amount</th>\n",
       "      <th>properties</th>\n",
       "      <th>cost</th>\n",
       "    </tr>\n",
       "  </thead>\n",
       "  <tbody>\n",
       "  </tbody>\n",
       "</table>\n",
       "</div>"
      ],
      "text/plain": [
       "Empty DataFrame\n",
       "Columns: [date, type, user, units, full_name, pin, amount, properties, cost]\n",
       "Index: []"
      ]
     },
     "execution_count": 41,
     "metadata": {},
     "output_type": "execute_result"
    }
   ],
   "source": [
    "# Preview data (change 0 to any number of rows)\n",
    "print_data.head(0)"
   ]
  },
  {
   "cell_type": "code",
   "execution_count": 42,
   "metadata": {},
   "outputs": [
    {
     "data": {
      "text/plain": [
       "date          0\n",
       "type          0\n",
       "user          0\n",
       "units         0\n",
       "full_name     0\n",
       "pin           0\n",
       "amount        0\n",
       "properties    0\n",
       "cost          0\n",
       "dtype: int64"
      ]
     },
     "execution_count": 42,
     "metadata": {},
     "output_type": "execute_result"
    }
   ],
   "source": [
    "# Verify there's no empmty values (should get 0 on all)\n",
    "print_data.isna().sum()"
   ]
  },
  {
   "cell_type": "code",
   "execution_count": 43,
   "metadata": {},
   "outputs": [
    {
     "data": {
      "text/plain": [
       "date          object\n",
       "type          object\n",
       "user          object\n",
       "units          int64\n",
       "full_name     object\n",
       "pin            int64\n",
       "amount        object\n",
       "properties    object\n",
       "cost          object\n",
       "dtype: object"
      ]
     },
     "execution_count": 43,
     "metadata": {},
     "output_type": "execute_result"
    }
   ],
   "source": [
    "# Check column data type\n",
    "print_data.dtypes"
   ]
  },
  {
   "cell_type": "code",
   "execution_count": 44,
   "metadata": {},
   "outputs": [],
   "source": [
    "# Replace comas with dots \n",
    "rep_comas = ['amount', 'cost']\n",
    "for c in rep_comas:\n",
    "    print_data[c] = print_data[c].map(lambda x: x.replace(',' , '.'))"
   ]
  },
  {
   "cell_type": "code",
   "execution_count": 45,
   "metadata": {},
   "outputs": [],
   "source": [
    "# Convert types so they are useful for computation\n",
    "conv_types = ['amount', 'cost', 'pin']\n",
    "for c in conv_types:\n",
    "    print_data[c] = print_data[c].astype(float)\n"
   ]
  },
  {
   "cell_type": "code",
   "execution_count": 46,
   "metadata": {
    "scrolled": true
   },
   "outputs": [
    {
     "data": {
      "text/plain": [
       "date           object\n",
       "type           object\n",
       "user           object\n",
       "units           int64\n",
       "full_name      object\n",
       "pin           float64\n",
       "amount        float64\n",
       "properties     object\n",
       "cost          float64\n",
       "dtype: object"
      ]
     },
     "execution_count": 46,
     "metadata": {},
     "output_type": "execute_result"
    }
   ],
   "source": [
    "# Verify new data types\n",
    "print_data.dtypes"
   ]
  },
  {
   "cell_type": "code",
   "execution_count": 47,
   "metadata": {},
   "outputs": [
    {
     "data": {
      "text/plain": [
       "pin\n",
       "1.104450e+06    70.000000\n",
       "1.063615e+06    25.200000\n",
       "1.063648e+06    11.666667\n",
       "5.516420e+11     6.000000\n",
       "9.500058e+06     5.250000\n",
       "1.063647e+06     4.428571\n",
       "5.516420e+11     3.571429\n",
       "5.516420e+11     1.000000\n",
       "Name: units, dtype: float64"
      ]
     },
     "execution_count": 47,
     "metadata": {},
     "output_type": "execute_result"
    }
   ],
   "source": [
    "# View averages by 'pin' (we print the user pin number, not real user names)\n",
    "print_mean = print_data.groupby('pin').units.mean()\n",
    "ordered_print = print_mean.sort_values(ascending=False)\n",
    "ordered_print"
   ]
  },
  {
   "cell_type": "code",
   "execution_count": 232,
   "metadata": {},
   "outputs": [],
   "source": [
    "ord_print_df = pd.DataFrame(ordered_print)\n",
    "#ord_print_df"
   ]
  },
  {
   "cell_type": "code",
   "execution_count": 48,
   "metadata": {},
   "outputs": [
    {
     "data": {
      "image/png": "[encoded data removed]",
      "text/plain": [
       "<Figure size 1440x1080 with 1 Axes>"
      ]
     },
     "metadata": {},
     "output_type": "display_data"
    }
   ],
   "source": [
    "# Create plot of averages\n",
    "ordered_print.iloc[:25].plot(kind='barh', figsize=(20,15))\n",
    "plt.gca().invert_yaxis()\n",
    "plt.xlabel(\"Prints\")\n",
    "plt.ylabel(\"User\")\n",
    "plt.title(\"Print Scores\")\n",
    "plt.show();"
   ]
  },
  {
   "cell_type": "code",
   "execution_count": 234,
   "metadata": {
    "scrolled": true
   },
   "outputs": [
    {
     "data": {
      "text/html": [
       "<div>\n",
       "<style scoped>\n",
       "    .dataframe tbody tr th:only-of-type {\n",
       "        vertical-align: middle;\n",
       "    }\n",
       "\n",
       "    .dataframe tbody tr th {\n",
       "        vertical-align: top;\n",
       "    }\n",
       "\n",
       "    .dataframe thead th {\n",
       "        text-align: right;\n",
       "    }\n",
       "</style>\n",
       "<table border=\"1\" class=\"dataframe\">\n",
       "  <thead>\n",
       "    <tr style=\"text-align: right;\">\n",
       "      <th></th>\n",
       "      <th>units</th>\n",
       "      <th>pin</th>\n",
       "      <th>amount</th>\n",
       "      <th>cost</th>\n",
       "    </tr>\n",
       "  </thead>\n",
       "  <tbody>\n",
       "    <tr>\n",
       "      <th>count</th>\n",
       "      <td>39.000000</td>\n",
       "      <td>3.900000e+01</td>\n",
       "      <td>39.000000</td>\n",
       "      <td>39.0</td>\n",
       "    </tr>\n",
       "    <tr>\n",
       "      <th>mean</th>\n",
       "      <td>9.205128</td>\n",
       "      <td>1.697376e+11</td>\n",
       "      <td>0.085385</td>\n",
       "      <td>0.0</td>\n",
       "    </tr>\n",
       "    <tr>\n",
       "      <th>std</th>\n",
       "      <td>20.778505</td>\n",
       "      <td>2.579312e+11</td>\n",
       "      <td>0.208754</td>\n",
       "      <td>0.0</td>\n",
       "    </tr>\n",
       "    <tr>\n",
       "      <th>min</th>\n",
       "      <td>1.000000</td>\n",
       "      <td>1.063615e+06</td>\n",
       "      <td>0.000000</td>\n",
       "      <td>0.0</td>\n",
       "    </tr>\n",
       "    <tr>\n",
       "      <th>25%</th>\n",
       "      <td>1.000000</td>\n",
       "      <td>1.063647e+06</td>\n",
       "      <td>0.010000</td>\n",
       "      <td>0.0</td>\n",
       "    </tr>\n",
       "    <tr>\n",
       "      <th>50%</th>\n",
       "      <td>3.000000</td>\n",
       "      <td>1.063648e+06</td>\n",
       "      <td>0.020000</td>\n",
       "      <td>0.0</td>\n",
       "    </tr>\n",
       "    <tr>\n",
       "      <th>75%</th>\n",
       "      <td>8.000000</td>\n",
       "      <td>5.516420e+11</td>\n",
       "      <td>0.055000</td>\n",
       "      <td>0.0</td>\n",
       "    </tr>\n",
       "    <tr>\n",
       "      <th>max</th>\n",
       "      <td>114.000000</td>\n",
       "      <td>5.516420e+11</td>\n",
       "      <td>1.140000</td>\n",
       "      <td>0.0</td>\n",
       "    </tr>\n",
       "  </tbody>\n",
       "</table>\n",
       "</div>"
      ],
      "text/plain": [
       "            units           pin     amount  cost\n",
       "count   39.000000  3.900000e+01  39.000000  39.0\n",
       "mean     9.205128  1.697376e+11   0.085385   0.0\n",
       "std     20.778505  2.579312e+11   0.208754   0.0\n",
       "min      1.000000  1.063615e+06   0.000000   0.0\n",
       "25%      1.000000  1.063647e+06   0.010000   0.0\n",
       "50%      3.000000  1.063648e+06   0.020000   0.0\n",
       "75%      8.000000  5.516420e+11   0.055000   0.0\n",
       "max    114.000000  5.516420e+11   1.140000   0.0"
      ]
     },
     "execution_count": 234,
     "metadata": {},
     "output_type": "execute_result"
    }
   ],
   "source": [
    "# View general statistics\n",
    "print_data.describe()"
   ]
  },
  {
   "cell_type": "markdown",
   "metadata": {},
   "source": [
    "### Input .csv file \"output\" name here"
   ]
  },
  {
   "cell_type": "code",
   "execution_count": 235,
   "metadata": {},
   "outputs": [],
   "source": [
    "# Write to a new prepared .csv file\n",
    "print_data.to_csv('print_data' + file_name)"
   ]
  }
 ],
 "metadata": {
  "kernelspec": {
   "display_name": "Python 3",
   "language": "python",
   "name": "python3"
  },
  "language_info": {
   "codemirror_mode": {
    "name": "ipython",
    "version": 3
   },
   "file_extension": ".py",
   "mimetype": "text/x-python",
   "name": "python",
   "nbconvert_exporter": "python",
   "pygments_lexer": "ipython3",
   "version": "3.6.5"
  }
 },
 "nbformat": 4,
 "nbformat_minor": 2
}
