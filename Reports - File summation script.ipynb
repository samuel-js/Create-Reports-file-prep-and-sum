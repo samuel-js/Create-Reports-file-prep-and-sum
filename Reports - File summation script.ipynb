{
 "cells": [
  {
   "cell_type": "markdown",
   "metadata": {},
   "source": [
    "# Reports: File summation script\n",
    "The following script takes in a group of files as inputs. Then it add them together for computation and finally it exports the original inputs as a new file. In this example, the input files are print reports .cvs that had been prepared for sumation in the other script \"File preparation script\".  The script can be easily adapted to many other cases."
   ]
  },
  {
   "cell_type": "code",
   "execution_count": 15,
   "metadata": {},
   "outputs": [],
   "source": [
    "#Import libraries\n",
    "import pandas as pd\n",
    "#pd.options.display.max_rows = 650\n",
    "#pd.options.display.max_columns = 100\n",
    "import numpy as np\n",
    "import matplotlib.pyplot as plt\n",
    "% matplotlib inline"
   ]
  },
  {
   "cell_type": "markdown",
   "metadata": {},
   "source": [
    "### Read input .csv files"
   ]
  },
  {
   "cell_type": "code",
   "execution_count": 3,
   "metadata": {},
   "outputs": [],
   "source": [
    "print_data1 = pd.read_csv('print_data_0817.csv') \n",
    "print_data2 = pd.read_csv('print_data_0917.csv') \n",
    "print_data3 = pd.read_csv('print_data_1017.csv') \n",
    "print_data4 = pd.read_csv('print_data_1117.csv') \n",
    "print_data5 = pd.read_csv('print_data_1217.csv') \n",
    "print_data6 = pd.read_csv('print_data_0118.csv') \n",
    "print_data7 = pd.read_csv('print_data_0218.csv')\n",
    "print_data8 = pd.read_csv('print_data_0318.csv') \n",
    "print_data9 = pd.read_csv('print_data_0418.csv') \n",
    "print_data10 = pd.read_csv('print_data_0918.csv') \n",
    "print_data11 = pd.read_csv('print_data_1018.csv') "
   ]
  },
  {
   "cell_type": "markdown",
   "metadata": {},
   "source": [
    "### Jobs per month"
   ]
  },
  {
   "cell_type": "code",
   "execution_count": 4,
   "metadata": {
    "scrolled": true
   },
   "outputs": [
    {
     "data": {
      "text/plain": [
       "((39, 10),\n",
       " (1173, 10),\n",
       " (2200, 10),\n",
       " (1547, 10),\n",
       " (1922, 10),\n",
       " (1782, 10),\n",
       " (1328, 10),\n",
       " (1601, 10),\n",
       " (1601, 10),\n",
       " (1716, 10),\n",
       " (2107, 10))"
      ]
     },
     "execution_count": 4,
     "metadata": {},
     "output_type": "execute_result"
    }
   ],
   "source": [
    "print_data1.shape, print_data2.shape, print_data3.shape, print_data4.shape, print_data5.shape,\\\n",
    "                   print_data6.shape, print_data7.shape, print_data8.shape, print_data9.shape, \\\n",
    "                   print_data10.shape, print_data11.shape,"
   ]
  },
  {
   "cell_type": "code",
   "execution_count": 5,
   "metadata": {
    "scrolled": false
   },
   "outputs": [],
   "source": [
    "# Combine months in one file\n",
    "print_data = pd.concat([print_data1, print_data2, print_data3, print_data4, \n",
    "                        print_data5, print_data6, print_data7, print_data8,\n",
    "                        print_data8, print_data9, print_data10, print_data11], \n",
    "                        axis = 0, sort=True)"
   ]
  },
  {
   "cell_type": "markdown",
   "metadata": {},
   "source": [
    "### Total jobs\n",
    "This is the amount of total jobs, not the amount of total prints"
   ]
  },
  {
   "cell_type": "code",
   "execution_count": 6,
   "metadata": {
    "scrolled": false
   },
   "outputs": [
    {
     "data": {
      "text/plain": [
       "(18617, 10)"
      ]
     },
     "execution_count": 6,
     "metadata": {},
     "output_type": "execute_result"
    }
   ],
   "source": [
    "print_data.shape"
   ]
  },
  {
   "cell_type": "code",
   "execution_count": 7,
   "metadata": {},
   "outputs": [
    {
     "data": {
      "text/html": [
       "<div>\n",
       "<style scoped>\n",
       "    .dataframe tbody tr th:only-of-type {\n",
       "        vertical-align: middle;\n",
       "    }\n",
       "\n",
       "    .dataframe tbody tr th {\n",
       "        vertical-align: top;\n",
       "    }\n",
       "\n",
       "    .dataframe thead th {\n",
       "        text-align: right;\n",
       "    }\n",
       "</style>\n",
       "<table border=\"1\" class=\"dataframe\">\n",
       "  <thead>\n",
       "    <tr style=\"text-align: right;\">\n",
       "      <th></th>\n",
       "      <th>Unnamed: 0</th>\n",
       "      <th>amount</th>\n",
       "      <th>cost</th>\n",
       "      <th>date</th>\n",
       "      <th>full_name</th>\n",
       "      <th>pin</th>\n",
       "      <th>properties</th>\n",
       "      <th>type</th>\n",
       "      <th>units</th>\n",
       "      <th>user</th>\n",
       "    </tr>\n",
       "  </thead>\n",
       "  <tbody>\n",
       "  </tbody>\n",
       "</table>\n",
       "</div>"
      ],
      "text/plain": [
       "Empty DataFrame\n",
       "Columns: [Unnamed: 0, amount, cost, date, full_name, pin, properties, type, units, user]\n",
       "Index: []"
      ]
     },
     "execution_count": 7,
     "metadata": {},
     "output_type": "execute_result"
    }
   ],
   "source": [
    "print_data.head(0)"
   ]
  },
  {
   "cell_type": "markdown",
   "metadata": {},
   "source": [
    "### Total prints"
   ]
  },
  {
   "cell_type": "code",
   "execution_count": 8,
   "metadata": {},
   "outputs": [
    {
     "data": {
      "text/plain": [
       "360324"
      ]
     },
     "execution_count": 8,
     "metadata": {},
     "output_type": "execute_result"
    }
   ],
   "source": [
    "print_data.units.sum()"
   ]
  },
  {
   "cell_type": "markdown",
   "metadata": {},
   "source": [
    "### Total Cost"
   ]
  },
  {
   "cell_type": "code",
   "execution_count": 9,
   "metadata": {},
   "outputs": [
    {
     "data": {
      "text/plain": [
       "3583.09"
      ]
     },
     "execution_count": 9,
     "metadata": {},
     "output_type": "execute_result"
    }
   ],
   "source": [
    "print_data.amount.sum()"
   ]
  },
  {
   "cell_type": "markdown",
   "metadata": {},
   "source": [
    "### Cleaning"
   ]
  },
  {
   "cell_type": "code",
   "execution_count": 10,
   "metadata": {},
   "outputs": [],
   "source": [
    "print_data.drop('Unnamed: 0', axis=1, inplace=True)"
   ]
  },
  {
   "cell_type": "code",
   "execution_count": 11,
   "metadata": {},
   "outputs": [
    {
     "data": {
      "text/plain": [
       "amount        float64\n",
       "cost          float64\n",
       "date           object\n",
       "full_name      object\n",
       "pin           float64\n",
       "properties     object\n",
       "type           object\n",
       "units           int64\n",
       "user           object\n",
       "dtype: object"
      ]
     },
     "execution_count": 11,
     "metadata": {},
     "output_type": "execute_result"
    }
   ],
   "source": [
    "print_data.dtypes"
   ]
  },
  {
   "cell_type": "markdown",
   "metadata": {},
   "source": [
    "### Table Statistics"
   ]
  },
  {
   "cell_type": "code",
   "execution_count": 12,
   "metadata": {
    "scrolled": false
   },
   "outputs": [
    {
     "data": {
      "text/plain": [
       "count    18617.000000\n",
       "mean        19.354568\n",
       "std         86.418137\n",
       "min          1.000000\n",
       "25%          1.000000\n",
       "50%          2.000000\n",
       "75%          5.000000\n",
       "max       2907.000000\n",
       "Name: units, dtype: float64"
      ]
     },
     "execution_count": 12,
     "metadata": {},
     "output_type": "execute_result"
    }
   ],
   "source": [
    "print_data['units'].describe()"
   ]
  },
  {
   "cell_type": "markdown",
   "metadata": {},
   "source": [
    "### Totals by user"
   ]
  },
  {
   "cell_type": "code",
   "execution_count": 16,
   "metadata": {
    "scrolled": false
   },
   "outputs": [
    {
     "data": {
      "text/plain": [
       "pin\n",
       "5.516420e+11    51633\n",
       "5.275233e+06    24081\n",
       "5.516420e+11    22115\n",
       "1.469268e+07    19158\n",
       "1.063440e+06    16749\n",
       "6.304973e+06    14782\n",
       "1.104448e+06    12867\n",
       "1.063648e+06    12755\n",
       "1.104508e+06    11838\n",
       "5.516393e+11    10903\n",
       "1.063488e+06     9010\n",
       "5.516420e+11     8581\n",
       "1.104396e+06     8534\n",
       "9.500145e+06     7237\n",
       "5.516420e+11     7214\n",
       "1.104576e+06     6664\n",
       "1.071807e+06     6398\n",
       "6.304885e+06     6371\n",
       "1.071743e+06     6204\n",
       "5.516393e+11     6196\n",
       "5.275297e+06     6114\n",
       "1.104620e+06     5748\n",
       "1.104588e+06     5033\n",
       "1.104540e+06     4963\n",
       "9.499914e+06     4370\n",
       "Name: units, dtype: int64"
      ]
     },
     "execution_count": 16,
     "metadata": {},
     "output_type": "execute_result"
    }
   ],
   "source": [
    "print_total = print_data.groupby('pin').units.sum()\n",
    "total_print = print_total.sort_values(ascending=False)\n",
    "total_print.head(25) # Change the number to the number of users you want to preview"
   ]
  },
  {
   "cell_type": "code",
   "execution_count": 14,
   "metadata": {
    "scrolled": false
   },
   "outputs": [
    {
     "data": {
      "image/png": "[encoded data removed]",
      "text/plain": [
       "<Figure size 1440x1080 with 1 Axes>"
      ]
     },
     "metadata": {},
     "output_type": "display_data"
    }
   ],
   "source": [
    "total_print.iloc[:25].plot(kind='barh', figsize=(20,15))\n",
    "plt.gca().invert_yaxis()\n",
    "plt.xlabel(\"Prints\")\n",
    "plt.ylabel(\"User\")\n",
    "plt.title(\"Print Scores\")\n",
    "plt.show();"
   ]
  },
  {
   "cell_type": "markdown",
   "metadata": {},
   "source": [
    "### Input .csv file \"output\" name here"
   ]
  },
  {
   "cell_type": "code",
   "execution_count": 94,
   "metadata": {},
   "outputs": [],
   "source": [
    "# Export to a new .csv file\n",
    "print_data.to_csv('print_data_all.csv', index=False)"
   ]
  }
 ],
 "metadata": {
  "kernelspec": {
   "display_name": "Python 3",
   "language": "python",
   "name": "python3"
  },
  "language_info": {
   "codemirror_mode": {
    "name": "ipython",
    "version": 3
   },
   "file_extension": ".py",
   "mimetype": "text/x-python",
   "name": "python",
   "nbconvert_exporter": "python",
   "pygments_lexer": "ipython3",
   "version": "3.6.5"
  }
 },
 "nbformat": 4,
 "nbformat_minor": 2
}
